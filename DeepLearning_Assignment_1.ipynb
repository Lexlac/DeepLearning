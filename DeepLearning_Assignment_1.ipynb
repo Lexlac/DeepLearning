{
 "cells": [
  {
   "cell_type": "code",
   "execution_count": 40,
   "metadata": {},
   "outputs": [
    {
     "name": "stdout",
     "output_type": "stream",
     "text": [
      "1.12.0\n"
     ]
    }
   ],
   "source": [
    "# Importing libraries\n",
    "\n",
    "import matplotlib.pyplot as plt\n",
    "%matplotlib inline\n",
    "import numpy as np\n",
    "import keras as keras\n",
    "\n",
    "import tensorflow as tf \n",
    "print(tf.__version__) # Checking the version of tensorflow"
   ]
  },
  {
   "cell_type": "code",
   "execution_count": 2,
   "metadata": {},
   "outputs": [],
   "source": [
    "# Fixing a crashing problem\n",
    "\n",
    "import os\n",
    "os.environ['KMP_DUPLICATE_LIB_OK']='True'"
   ]
  },
  {
   "cell_type": "code",
   "execution_count": 3,
   "metadata": {},
   "outputs": [],
   "source": [
    "# On some implementations of matplotlib, you may need to change this value\n",
    "IMAGE_SIZE = 72"
   ]
  },
  {
   "cell_type": "code",
   "execution_count": 4,
   "metadata": {},
   "outputs": [],
   "source": [
    "# Create a function the generates a drawing\n",
    "\n",
    "def generate_a_drawing(figsize, U, V, noise=0.0):\n",
    "    fig = plt.figure(figsize=(figsize,figsize))\n",
    "    ax = plt.subplot(111)\n",
    "    plt.axis('Off')\n",
    "    ax.set_xlim(0,figsize)\n",
    "    ax.set_ylim(0,figsize)\n",
    "    ax.fill(U, V, \"k\")\n",
    "    fig.canvas.draw()\n",
    "    imdata = np.frombuffer(fig.canvas.tostring_rgb(), dtype=np.uint8)[::3].astype(np.float32)\n",
    "    imdata = imdata + noise * np.random.random(imdata.size)\n",
    "    plt.close(fig)\n",
    "    return imdata"
   ]
  },
  {
   "cell_type": "code",
   "execution_count": 5,
   "metadata": {},
   "outputs": [],
   "source": [
    "# Create a function the generates a rectangle\n",
    "\n",
    "def generate_a_rectangle(noise=0.0, free_location=False):\n",
    "    figsize = 1.0    \n",
    "    U = np.zeros(4)\n",
    "    V = np.zeros(4)\n",
    "    if free_location:\n",
    "        corners = np.random.random(4)\n",
    "        top = max(corners[0], corners[1])\n",
    "        bottom = min(corners[0], corners[1])\n",
    "        left = min(corners[2], corners[3])\n",
    "        right = max(corners[2], corners[3])\n",
    "    else:\n",
    "        side = (0.3 + 0.7 * np.random.random()) * figsize\n",
    "        top = figsize/2 + side/2\n",
    "        bottom = figsize/2 - side/2\n",
    "        left = bottom\n",
    "        right = top\n",
    "    U[0] = U[1] = top\n",
    "    U[2] = U[3] = bottom\n",
    "    V[0] = V[3] = left\n",
    "    V[1] = V[2] = right\n",
    "    return generate_a_drawing(figsize, U, V, noise)"
   ]
  },
  {
   "cell_type": "code",
   "execution_count": 6,
   "metadata": {},
   "outputs": [],
   "source": [
    "# Create a function the generates a disk\n",
    "\n",
    "def generate_a_disk(noise=0.0, free_location=False):\n",
    "    figsize = 1.0\n",
    "    if free_location:\n",
    "        center = np.random.random(2)\n",
    "    else:\n",
    "        center = (figsize/2, figsize/2)\n",
    "    radius = (0.3 + 0.7 * np.random.random()) * figsize/2\n",
    "    N = 50\n",
    "    U = np.zeros(N)\n",
    "    V = np.zeros(N)\n",
    "    i = 0\n",
    "    for t in np.linspace(0, 2*np.pi, N):\n",
    "        U[i] = center[0] + np.cos(t) * radius\n",
    "        V[i] = center[1] + np.sin(t) * radius\n",
    "        i = i + 1\n",
    "    return generate_a_drawing(figsize, U, V, noise)"
   ]
  },
  {
   "cell_type": "code",
   "execution_count": 7,
   "metadata": {},
   "outputs": [],
   "source": [
    "# Create a function the generates a triangle\n",
    "\n",
    "def generate_a_triangle(noise=0.0, free_location=False):\n",
    "    figsize = 1.0\n",
    "    if free_location:\n",
    "        U = np.random.random(3)\n",
    "        V = np.random.random(3)\n",
    "    else:\n",
    "        size = (0.3 + 0.7 * np.random.random())*figsize/2\n",
    "        middle = figsize/2\n",
    "        U = (middle, middle+size, middle-size)\n",
    "        V = (middle+size, middle-size, middle-size)\n",
    "    imdata = generate_a_drawing(figsize, U, V, noise)\n",
    "    return [imdata, [U[0], V[0], U[1], V[1], U[2], V[2]]]"
   ]
  },
  {
   "cell_type": "code",
   "execution_count": 8,
   "metadata": {},
   "outputs": [
    {
     "data": {
      "text/plain": [
       "<matplotlib.image.AxesImage at 0xb37406400>"
      ]
     },
     "execution_count": 8,
     "metadata": {},
     "output_type": "execute_result"
    },
    {
     "data": {
      "image/png": "[encoded data removed]",
      "text/plain": [
       "<Figure size 432x288 with 1 Axes>"
      ]
     },
     "metadata": {
      "needs_background": "light"
     },
     "output_type": "display_data"
    }
   ],
   "source": [
    "im = generate_a_rectangle(10, True)\n",
    "plt.imshow(im.reshape(IMAGE_SIZE,IMAGE_SIZE), cmap='gray')"
   ]
  },
  {
   "cell_type": "code",
   "execution_count": 9,
   "metadata": {},
   "outputs": [
    {
     "data": {
      "text/plain": [
       "<matplotlib.image.AxesImage at 0xb375a7588>"
      ]
     },
     "execution_count": 9,
     "metadata": {},
     "output_type": "execute_result"
    },
    {
     "data": {
      "image/png": "[encoded data removed]",
      "text/plain": [
       "<Figure size 432x288 with 1 Axes>"
      ]
     },
     "metadata": {
      "needs_background": "light"
     },
     "output_type": "display_data"
    }
   ],
   "source": [
    "im = generate_a_disk(10)\n",
    "plt.imshow(im.reshape(IMAGE_SIZE,IMAGE_SIZE), cmap='gray')"
   ]
  },
  {
   "cell_type": "code",
   "execution_count": 10,
   "metadata": {},
   "outputs": [
    {
     "data": {
      "text/plain": [
       "<matplotlib.image.AxesImage at 0xb376cf780>"
      ]
     },
     "execution_count": 10,
     "metadata": {},
     "output_type": "execute_result"
    },
    {
     "data": {
      "image/png": "[encoded data removed]",
      "text/plain": [
       "<Figure size 432x288 with 1 Axes>"
      ]
     },
     "metadata": {
      "needs_background": "light"
     },
     "output_type": "display_data"
    }
   ],
   "source": [
    "[im, v] = generate_a_triangle(20, False)\n",
    "plt.imshow(im.reshape(IMAGE_SIZE,IMAGE_SIZE), cmap='gray')"
   ]
  },
  {
   "cell_type": "code",
   "execution_count": 11,
   "metadata": {},
   "outputs": [],
   "source": [
    "def generate_dataset_classification(nb_samples, noise=0.0, free_location=False):\n",
    "    # Getting im_size:\n",
    "    im_size = generate_a_rectangle().shape[0]\n",
    "    X = np.zeros([nb_samples,im_size])\n",
    "    Y = np.zeros(nb_samples)\n",
    "    print('Creating data:')\n",
    "    for i in range(nb_samples):\n",
    "        if i % 10 == 0:\n",
    "            print(i)\n",
    "        category = np.random.randint(3)\n",
    "        if category == 0:\n",
    "            X[i] = generate_a_rectangle(noise, free_location)\n",
    "        elif category == 1: \n",
    "            X[i] = generate_a_disk(noise, free_location)\n",
    "        else:\n",
    "            [X[i], V] = generate_a_triangle(noise, free_location)\n",
    "        Y[i] = category\n",
    "    X = (X + noise) / (255 + 2 * noise)\n",
    "    return [X, Y]"
   ]
  },
  {
   "cell_type": "code",
   "execution_count": 12,
   "metadata": {},
   "outputs": [],
   "source": [
    "def generate_test_set_classification():\n",
    "    np.random.seed(42)\n",
    "    [X_test, Y_test] = generate_dataset_classification(300, 20, True)\n",
    "    Y_test = keras.utils.to_categorical(Y_test, 3) \n",
    "    return [X_test, Y_test]"
   ]
  },
  {
   "cell_type": "code",
   "execution_count": 13,
   "metadata": {},
   "outputs": [],
   "source": [
    "def generate_dataset_regression(nb_samples, noise=0.0):\n",
    "    # Getting im_size:\n",
    "    im_size = generate_a_triangle()[0].shape[0]\n",
    "    X = np.zeros([nb_samples,im_size])\n",
    "    Y = np.zeros([nb_samples, 6])\n",
    "    print('Creating data:')\n",
    "    for i in range(nb_samples):\n",
    "        if i % 10 == 0:\n",
    "            print(i)\n",
    "        [X[i], Y[i]] = generate_a_triangle(noise, True)\n",
    "    X = (X + noise) / (255 + 2 * noise)\n",
    "    return [X, Y]"
   ]
  },
  {
   "cell_type": "code",
   "execution_count": 14,
   "metadata": {},
   "outputs": [],
   "source": [
    "import matplotlib.patches as patches"
   ]
  },
  {
   "cell_type": "code",
   "execution_count": 15,
   "metadata": {},
   "outputs": [],
   "source": [
    "def visualize_prediction(x, y):\n",
    "    fig, ax = plt.subplots(figsize=(5, 5))\n",
    "    I = x.reshape((IMAGE_SIZE,IMAGE_SIZE))\n",
    "    ax.imshow(I, extent=[-0.15,1.15,-0.15,1.15],cmap='gray')\n",
    "    ax.set_xlim([0,1])\n",
    "    ax.set_ylim([0,1])\n",
    "\n",
    "    xy = y.reshape(3,2)\n",
    "    tri = patches.Polygon(xy, closed=True, fill = False, edgecolor = 'r', linewidth = 5, alpha = 0.5)\n",
    "    ax.add_patch(tri)\n",
    "\n",
    "    plt.show()"
   ]
  },
  {
   "cell_type": "code",
   "execution_count": 16,
   "metadata": {},
   "outputs": [],
   "source": [
    "def generate_test_set_regression():\n",
    "    np.random.seed(42)\n",
    "    [X_test, Y_test] = generate_dataset_regression(300, 20)\n",
    "    return [X_test, Y_test]"
   ]
  },
  {
   "cell_type": "code",
   "execution_count": 17,
   "metadata": {},
   "outputs": [
    {
     "name": "stdout",
     "output_type": "stream",
     "text": [
      "Creating data:\n",
      "0\n",
      "10\n",
      "20\n",
      "30\n",
      "40\n",
      "50\n",
      "60\n",
      "70\n",
      "80\n",
      "90\n",
      "100\n",
      "110\n",
      "120\n",
      "130\n",
      "140\n",
      "150\n",
      "160\n",
      "170\n",
      "180\n",
      "190\n",
      "200\n",
      "210\n",
      "220\n",
      "230\n",
      "240\n",
      "250\n",
      "260\n",
      "270\n",
      "280\n",
      "290\n"
     ]
    }
   ],
   "source": [
    "[X_train, Y_train] = generate_dataset_classification(300, 20)"
   ]
  },
  {
   "cell_type": "markdown",
   "metadata": {},
   "source": [
    "# 3 - Simple Classification"
   ]
  },
  {
   "cell_type": "markdown",
   "metadata": {},
   "source": [
    "## Stochastic Gradient Descent Optimizer"
   ]
  },
  {
   "cell_type": "code",
   "execution_count": 18,
   "metadata": {},
   "outputs": [
    {
     "name": "stderr",
     "output_type": "stream",
     "text": [
      "Using TensorFlow backend.\n"
     ]
    }
   ],
   "source": [
    "# Import the necessary libraries\n",
    "\n",
    "from keras import optimizers\n",
    "from keras.models import Sequential\n",
    "from keras.layers import Activation\n",
    "from keras.layers.core import Dense\n",
    "from keras.optimizers import Adam\n",
    "from keras.optimizers import sgd\n",
    "from keras.metrics import categorical_crossentropy\n",
    "from keras import metrics"
   ]
  },
  {
   "cell_type": "code",
   "execution_count": 19,
   "metadata": {},
   "outputs": [],
   "source": [
    "inp_shape = X_train.shape[1] # Store the input shape\n",
    "\n",
    "Y_train = tf.keras.utils.to_categorical(Y_train) # Change Y_train into categorical values\n",
    "\n",
    "# CREATING THE NETWORK \n",
    "# Sequential stands for step by step\n",
    "# The first layer (Dense) has 72 neurones (IMAGE_SIZE) and needs to know what is the input shape\n",
    "# The output layer has 3 neurones which matches the number of classes of our problem\n",
    "\n",
    "model_SGD = Sequential([Dense(72, input_shape = (inp_shape,), activation = tf.nn.softmax),\n",
    "                       Dense(3, activation = 'softmax',input_shape=(inp_shape,))])\n",
    "\n",
    "# COMPILING THE MODEL\n",
    "\n",
    "model_SGD.compile(optimizer='sgd', loss='categorical_crossentropy', metrics=['accuracy'])"
   ]
  },
  {
   "cell_type": "code",
   "execution_count": 20,
   "metadata": {},
   "outputs": [
    {
     "name": "stdout",
     "output_type": "stream",
     "text": [
      "5184\n"
     ]
    }
   ],
   "source": [
    "print(inp_shape) # Checking the imput"
   ]
  },
  {
   "cell_type": "code",
   "execution_count": 21,
   "metadata": {},
   "outputs": [
    {
     "name": "stdout",
     "output_type": "stream",
     "text": [
      "_________________________________________________________________\n",
      "Layer (type)                 Output Shape              Param #   \n",
      "=================================================================\n",
      "dense_1 (Dense)              (None, 72)                373320    \n",
      "_________________________________________________________________\n",
      "dense_2 (Dense)              (None, 3)                 219       \n",
      "=================================================================\n",
      "Total params: 373,539\n",
      "Trainable params: 373,539\n",
      "Non-trainable params: 0\n",
      "_________________________________________________________________\n"
     ]
    }
   ],
   "source": [
    "model_SGD.summary() # Checking the characteristics of our network (SGD)"
   ]
  },
  {
   "cell_type": "code",
   "execution_count": 22,
   "metadata": {},
   "outputs": [
    {
     "name": "stdout",
     "output_type": "stream",
     "text": [
      "Epoch 1/75\n",
      "300/300 [==============================] - 1s 2ms/step - loss: 1.0955 - acc: 0.3367\n",
      "Epoch 2/75\n",
      "300/300 [==============================] - 0s 146us/step - loss: 1.0915 - acc: 0.4133\n",
      "Epoch 3/75\n",
      "300/300 [==============================] - 0s 126us/step - loss: 1.0872 - acc: 0.4067\n",
      "Epoch 4/75\n",
      "300/300 [==============================] - 0s 119us/step - loss: 1.0824 - acc: 0.4033\n",
      "Epoch 5/75\n",
      "300/300 [==============================] - 0s 119us/step - loss: 1.0787 - acc: 0.4700\n",
      "Epoch 6/75\n",
      "300/300 [==============================] - 0s 123us/step - loss: 1.0750 - acc: 0.4400\n",
      "Epoch 7/75\n",
      "300/300 [==============================] - 0s 121us/step - loss: 1.0696 - acc: 0.4100\n",
      "Epoch 8/75\n",
      "300/300 [==============================] - 0s 120us/step - loss: 1.0635 - acc: 0.5600\n",
      "Epoch 9/75\n",
      "300/300 [==============================] - 0s 122us/step - loss: 1.0558 - acc: 0.5100\n",
      "Epoch 10/75\n",
      "300/300 [==============================] - 0s 122us/step - loss: 1.0475 - acc: 0.5867\n",
      "Epoch 11/75\n",
      "300/300 [==============================] - 0s 124us/step - loss: 1.0334 - acc: 0.4800\n",
      "Epoch 12/75\n",
      "300/300 [==============================] - 0s 116us/step - loss: 1.0175 - acc: 0.5300\n",
      "Epoch 13/75\n",
      "300/300 [==============================] - 0s 115us/step - loss: 1.0087 - acc: 0.5933\n",
      "Epoch 14/75\n",
      "300/300 [==============================] - 0s 116us/step - loss: 1.0003 - acc: 0.6467\n",
      "Epoch 15/75\n",
      "300/300 [==============================] - 0s 120us/step - loss: 0.9875 - acc: 0.6533\n",
      "Epoch 16/75\n",
      "300/300 [==============================] - 0s 124us/step - loss: 0.9799 - acc: 0.6567\n",
      "Epoch 17/75\n",
      "300/300 [==============================] - 0s 131us/step - loss: 0.9693 - acc: 0.7433\n",
      "Epoch 18/75\n",
      "300/300 [==============================] - 0s 130us/step - loss: 0.9647 - acc: 0.7133\n",
      "Epoch 19/75\n",
      "300/300 [==============================] - 0s 125us/step - loss: 0.9554 - acc: 0.7333\n",
      "Epoch 20/75\n",
      "300/300 [==============================] - 0s 122us/step - loss: 0.9487 - acc: 0.7333\n",
      "Epoch 21/75\n",
      "300/300 [==============================] - 0s 118us/step - loss: 0.9388 - acc: 0.7267\n",
      "Epoch 22/75\n",
      "300/300 [==============================] - 0s 120us/step - loss: 0.9271 - acc: 0.7667\n",
      "Epoch 23/75\n",
      "300/300 [==============================] - 0s 120us/step - loss: 0.9188 - acc: 0.7633\n",
      "Epoch 24/75\n",
      "300/300 [==============================] - 0s 116us/step - loss: 0.9091 - acc: 0.7867\n",
      "Epoch 25/75\n",
      "300/300 [==============================] - 0s 117us/step - loss: 0.9026 - acc: 0.7733\n",
      "Epoch 26/75\n",
      "300/300 [==============================] - 0s 120us/step - loss: 0.8920 - acc: 0.7800\n",
      "Epoch 27/75\n",
      "300/300 [==============================] - 0s 121us/step - loss: 0.8863 - acc: 0.7767\n",
      "Epoch 28/75\n",
      "300/300 [==============================] - 0s 122us/step - loss: 0.8791 - acc: 0.7733\n",
      "Epoch 29/75\n",
      "300/300 [==============================] - 0s 124us/step - loss: 0.8712 - acc: 0.7933\n",
      "Epoch 30/75\n",
      "300/300 [==============================] - 0s 127us/step - loss: 0.8635 - acc: 0.7900\n",
      "Epoch 31/75\n",
      "300/300 [==============================] - 0s 129us/step - loss: 0.8575 - acc: 0.7867\n",
      "Epoch 32/75\n",
      "300/300 [==============================] - 0s 123us/step - loss: 0.8497 - acc: 0.7933\n",
      "Epoch 33/75\n",
      "300/300 [==============================] - 0s 124us/step - loss: 0.8431 - acc: 0.8033\n",
      "Epoch 34/75\n",
      "300/300 [==============================] - 0s 130us/step - loss: 0.8324 - acc: 0.8033\n",
      "Epoch 35/75\n",
      "300/300 [==============================] - 0s 121us/step - loss: 0.8256 - acc: 0.8033\n",
      "Epoch 36/75\n",
      "300/300 [==============================] - 0s 128us/step - loss: 0.8218 - acc: 0.8100\n",
      "Epoch 37/75\n",
      "300/300 [==============================] - 0s 130us/step - loss: 0.8100 - acc: 0.8167\n",
      "Epoch 38/75\n",
      "300/300 [==============================] - 0s 128us/step - loss: 0.8043 - acc: 0.8267\n",
      "Epoch 39/75\n",
      "300/300 [==============================] - 0s 126us/step - loss: 0.7959 - acc: 0.8233\n",
      "Epoch 40/75\n",
      "300/300 [==============================] - 0s 124us/step - loss: 0.7904 - acc: 0.8167\n",
      "Epoch 41/75\n",
      "300/300 [==============================] - 0s 122us/step - loss: 0.7841 - acc: 0.8233\n",
      "Epoch 42/75\n",
      "300/300 [==============================] - 0s 129us/step - loss: 0.7769 - acc: 0.8233\n",
      "Epoch 43/75\n",
      "300/300 [==============================] - 0s 124us/step - loss: 0.7731 - acc: 0.8367\n",
      "Epoch 44/75\n",
      "300/300 [==============================] - 0s 127us/step - loss: 0.7629 - acc: 0.8300\n",
      "Epoch 45/75\n",
      "300/300 [==============================] - 0s 129us/step - loss: 0.7587 - acc: 0.8300\n",
      "Epoch 46/75\n",
      "300/300 [==============================] - 0s 124us/step - loss: 0.7547 - acc: 0.8333\n",
      "Epoch 47/75\n",
      "300/300 [==============================] - 0s 125us/step - loss: 0.7449 - acc: 0.8400\n",
      "Epoch 48/75\n",
      "300/300 [==============================] - 0s 123us/step - loss: 0.7399 - acc: 0.8433\n",
      "Epoch 49/75\n",
      "300/300 [==============================] - 0s 125us/step - loss: 0.7330 - acc: 0.8400\n",
      "Epoch 50/75\n",
      "300/300 [==============================] - 0s 128us/step - loss: 0.7280 - acc: 0.8400\n",
      "Epoch 51/75\n",
      "300/300 [==============================] - 0s 125us/step - loss: 0.7211 - acc: 0.8400\n",
      "Epoch 52/75\n",
      "300/300 [==============================] - 0s 124us/step - loss: 0.7159 - acc: 0.8433\n",
      "Epoch 53/75\n",
      "300/300 [==============================] - 0s 121us/step - loss: 0.7096 - acc: 0.8400\n",
      "Epoch 54/75\n",
      "300/300 [==============================] - 0s 119us/step - loss: 0.7097 - acc: 0.8467\n",
      "Epoch 55/75\n",
      "300/300 [==============================] - 0s 123us/step - loss: 0.6995 - acc: 0.8467\n",
      "Epoch 56/75\n",
      "300/300 [==============================] - 0s 122us/step - loss: 0.6934 - acc: 0.8467\n",
      "Epoch 57/75\n",
      "300/300 [==============================] - 0s 119us/step - loss: 0.6888 - acc: 0.8567\n",
      "Epoch 58/75\n",
      "300/300 [==============================] - 0s 121us/step - loss: 0.6865 - acc: 0.8533\n",
      "Epoch 59/75\n",
      "300/300 [==============================] - 0s 119us/step - loss: 0.6783 - acc: 0.8500\n",
      "Epoch 60/75\n",
      "300/300 [==============================] - 0s 122us/step - loss: 0.6702 - acc: 0.8567\n",
      "Epoch 61/75\n",
      "300/300 [==============================] - 0s 118us/step - loss: 0.6689 - acc: 0.8533\n",
      "Epoch 62/75\n",
      "300/300 [==============================] - 0s 124us/step - loss: 0.6604 - acc: 0.8667\n",
      "Epoch 63/75\n",
      "300/300 [==============================] - 0s 124us/step - loss: 0.6577 - acc: 0.8600\n",
      "Epoch 64/75\n",
      "300/300 [==============================] - 0s 122us/step - loss: 0.6491 - acc: 0.8767\n",
      "Epoch 65/75\n",
      "300/300 [==============================] - 0s 118us/step - loss: 0.6471 - acc: 0.8733\n",
      "Epoch 66/75\n",
      "300/300 [==============================] - 0s 124us/step - loss: 0.6373 - acc: 0.8733\n",
      "Epoch 67/75\n",
      "300/300 [==============================] - 0s 122us/step - loss: 0.6357 - acc: 0.8667\n",
      "Epoch 68/75\n",
      "300/300 [==============================] - 0s 129us/step - loss: 0.6300 - acc: 0.8800\n",
      "Epoch 69/75\n",
      "300/300 [==============================] - 0s 121us/step - loss: 0.6213 - acc: 0.8867\n",
      "Epoch 70/75\n",
      "300/300 [==============================] - 0s 121us/step - loss: 0.6173 - acc: 0.8833\n",
      "Epoch 71/75\n",
      "300/300 [==============================] - 0s 117us/step - loss: 0.6142 - acc: 0.8833\n",
      "Epoch 72/75\n",
      "300/300 [==============================] - 0s 121us/step - loss: 0.6147 - acc: 0.8800\n",
      "Epoch 73/75\n",
      "300/300 [==============================] - 0s 115us/step - loss: 0.6042 - acc: 0.8933\n",
      "Epoch 74/75\n",
      "300/300 [==============================] - 0s 114us/step - loss: 0.5994 - acc: 0.8933\n",
      "Epoch 75/75\n",
      "300/300 [==============================] - 0s 117us/step - loss: 0.5972 - acc: 0.8900\n"
     ]
    },
    {
     "data": {
      "text/plain": [
       "<keras.callbacks.History at 0xb3bed1898>"
      ]
     },
     "execution_count": 22,
     "metadata": {},
     "output_type": "execute_result"
    }
   ],
   "source": [
    "# TRAINING THE MODEL\n",
    "# Batch size is how many samples the model will group while training\n",
    "\n",
    "model_SGD.fit(X_train, Y_train, epochs = 75, batch_size = 32)"
   ]
  },
  {
   "cell_type": "code",
   "execution_count": 26,
   "metadata": {},
   "outputs": [
    {
     "data": {
      "text/plain": [
       "array([[0.2712967 , 0.6133124 , 0.11539079]], dtype=float32)"
      ]
     },
     "execution_count": 26,
     "metadata": {},
     "output_type": "execute_result"
    }
   ],
   "source": [
    "X_test = generate_a_disk()\n",
    "X_test = X_test.reshape(1, X_test.shape[0])\n",
    "model_SGD.predict(X_test)"
   ]
  },
  {
   "cell_type": "markdown",
   "metadata": {},
   "source": [
    "## Adam Optimizer"
   ]
  },
  {
   "cell_type": "code",
   "execution_count": 41,
   "metadata": {},
   "outputs": [
    {
     "name": "stdout",
     "output_type": "stream",
     "text": [
      "Creating data:\n",
      "0\n",
      "10\n",
      "20\n",
      "30\n",
      "40\n",
      "50\n",
      "60\n",
      "70\n",
      "80\n",
      "90\n",
      "100\n",
      "110\n",
      "120\n",
      "130\n",
      "140\n",
      "150\n",
      "160\n",
      "170\n",
      "180\n",
      "190\n",
      "200\n",
      "210\n",
      "220\n",
      "230\n",
      "240\n",
      "250\n",
      "260\n",
      "270\n",
      "280\n",
      "290\n"
     ]
    }
   ],
   "source": [
    "[X_train, Y_train] = generate_dataset_classification(300, 20) # Recreating a testing set"
   ]
  },
  {
   "cell_type": "code",
   "execution_count": 42,
   "metadata": {},
   "outputs": [
    {
     "name": "stdout",
     "output_type": "stream",
     "text": [
      "Creating data:\n",
      "0\n",
      "10\n",
      "20\n",
      "30\n",
      "40\n",
      "50\n",
      "60\n",
      "70\n",
      "80\n",
      "90\n",
      "100\n",
      "110\n",
      "120\n",
      "130\n",
      "140\n",
      "150\n",
      "160\n",
      "170\n",
      "180\n",
      "190\n",
      "200\n",
      "210\n",
      "220\n",
      "230\n",
      "240\n",
      "250\n",
      "260\n",
      "270\n",
      "280\n",
      "290\n"
     ]
    }
   ],
   "source": [
    "[X_test, Y_test] = generate_dataset_regression(300, 20) # Creating the testing set"
   ]
  },
  {
   "cell_type": "code",
   "execution_count": 43,
   "metadata": {},
   "outputs": [],
   "source": [
    "inp_shape = X_train.shape[1] # Store the input shape\n",
    "\n",
    "Y_train = tf.keras.utils.to_categorical(Y_train) # Change Y_train into categorical values\n",
    "\n",
    "# CREATING THE NETWORK (Adam)\n",
    "# The first layer (Dense) has 72 neurones (IMAGE_SIZE) and needs to know what is the input shape\n",
    "# The output layer has 3 neurones which matches the number of classes of our problem\n",
    "\n",
    "model_Ad = Sequential([\n",
    "    Dense(72, input_shape = (inp_shape,), activation = 'relu'), \n",
    "    Dense(3, activation = tf.nn.softmax)\n",
    "])\n",
    "\n",
    "# COMPILING THE MODEL (Adam)\n",
    "\n",
    "model_Ad.compile(optimizer='Adam', loss='categorical_crossentropy', metrics=['accuracy'])"
   ]
  },
  {
   "cell_type": "code",
   "execution_count": 44,
   "metadata": {},
   "outputs": [
    {
     "name": "stdout",
     "output_type": "stream",
     "text": [
      "_________________________________________________________________\n",
      "Layer (type)                 Output Shape              Param #   \n",
      "=================================================================\n",
      "dense_5 (Dense)              (None, 72)                373320    \n",
      "_________________________________________________________________\n",
      "dense_6 (Dense)              (None, 3)                 219       \n",
      "=================================================================\n",
      "Total params: 373,539\n",
      "Trainable params: 373,539\n",
      "Non-trainable params: 0\n",
      "_________________________________________________________________\n"
     ]
    }
   ],
   "source": [
    "model_Ad.summary() # Checking the characteristics of our network (Adam)"
   ]
  },
  {
   "cell_type": "code",
   "execution_count": 45,
   "metadata": {},
   "outputs": [
    {
     "name": "stdout",
     "output_type": "stream",
     "text": [
      "Epoch 1/75\n",
      "300/300 [==============================] - 1s 2ms/step - loss: 3.8184 - acc: 0.3700\n",
      "Epoch 2/75\n",
      "300/300 [==============================] - 0s 242us/step - loss: 0.8563 - acc: 0.6067\n",
      "Epoch 3/75\n",
      "300/300 [==============================] - 0s 241us/step - loss: 0.4901 - acc: 0.8067\n",
      "Epoch 4/75\n",
      "300/300 [==============================] - 0s 244us/step - loss: 0.3831 - acc: 0.8667\n",
      "Epoch 5/75\n",
      "300/300 [==============================] - 0s 225us/step - loss: 0.3097 - acc: 0.9133\n",
      "Epoch 6/75\n",
      "300/300 [==============================] - 0s 222us/step - loss: 0.3071 - acc: 0.8433\n",
      "Epoch 7/75\n",
      "300/300 [==============================] - 0s 227us/step - loss: 0.2659 - acc: 0.8767\n",
      "Epoch 8/75\n",
      "300/300 [==============================] - 0s 225us/step - loss: 0.2716 - acc: 0.8667\n",
      "Epoch 9/75\n",
      "300/300 [==============================] - 0s 238us/step - loss: 0.2396 - acc: 0.8800\n",
      "Epoch 10/75\n",
      "300/300 [==============================] - 0s 222us/step - loss: 0.1779 - acc: 0.9500\n",
      "Epoch 11/75\n",
      "300/300 [==============================] - 0s 226us/step - loss: 0.1455 - acc: 0.9833\n",
      "Epoch 12/75\n",
      "300/300 [==============================] - 0s 223us/step - loss: 0.1083 - acc: 1.0000\n",
      "Epoch 13/75\n",
      "300/300 [==============================] - 0s 217us/step - loss: 0.1168 - acc: 0.9933\n",
      "Epoch 14/75\n",
      "300/300 [==============================] - 0s 235us/step - loss: 0.1492 - acc: 0.9533\n",
      "Epoch 15/75\n",
      "300/300 [==============================] - 0s 232us/step - loss: 0.0968 - acc: 0.9967\n",
      "Epoch 16/75\n",
      "300/300 [==============================] - 0s 231us/step - loss: 0.0702 - acc: 1.0000\n",
      "Epoch 17/75\n",
      "300/300 [==============================] - 0s 231us/step - loss: 0.0639 - acc: 1.0000\n",
      "Epoch 18/75\n",
      "300/300 [==============================] - 0s 235us/step - loss: 0.0616 - acc: 1.0000\n",
      "Epoch 19/75\n",
      "300/300 [==============================] - 0s 221us/step - loss: 0.0601 - acc: 1.0000\n",
      "Epoch 20/75\n",
      "300/300 [==============================] - 0s 218us/step - loss: 0.0581 - acc: 1.0000\n",
      "Epoch 21/75\n",
      "300/300 [==============================] - 0s 218us/step - loss: 0.0527 - acc: 1.0000\n",
      "Epoch 22/75\n",
      "300/300 [==============================] - 0s 219us/step - loss: 0.0418 - acc: 1.0000\n",
      "Epoch 23/75\n",
      "300/300 [==============================] - 0s 234us/step - loss: 0.0387 - acc: 1.0000\n",
      "Epoch 24/75\n",
      "300/300 [==============================] - 0s 254us/step - loss: 0.0362 - acc: 1.0000\n",
      "Epoch 25/75\n",
      "300/300 [==============================] - 0s 224us/step - loss: 0.0355 - acc: 1.0000\n",
      "Epoch 26/75\n",
      "300/300 [==============================] - 0s 229us/step - loss: 0.0306 - acc: 1.0000\n",
      "Epoch 27/75\n",
      "300/300 [==============================] - 0s 231us/step - loss: 0.0286 - acc: 1.0000\n",
      "Epoch 28/75\n",
      "300/300 [==============================] - 0s 255us/step - loss: 0.0256 - acc: 1.0000\n",
      "Epoch 29/75\n",
      "300/300 [==============================] - 0s 254us/step - loss: 0.0259 - acc: 1.0000\n",
      "Epoch 30/75\n",
      "300/300 [==============================] - 0s 225us/step - loss: 0.0283 - acc: 1.0000\n",
      "Epoch 31/75\n",
      "300/300 [==============================] - 0s 214us/step - loss: 0.0232 - acc: 1.0000\n",
      "Epoch 32/75\n",
      "300/300 [==============================] - 0s 215us/step - loss: 0.0218 - acc: 1.0000\n",
      "Epoch 33/75\n",
      "300/300 [==============================] - 0s 244us/step - loss: 0.0191 - acc: 1.0000\n",
      "Epoch 34/75\n",
      "300/300 [==============================] - 0s 228us/step - loss: 0.0180 - acc: 1.0000\n",
      "Epoch 35/75\n",
      "300/300 [==============================] - 0s 243us/step - loss: 0.0171 - acc: 1.0000\n",
      "Epoch 36/75\n",
      "300/300 [==============================] - 0s 258us/step - loss: 0.0155 - acc: 1.0000\n",
      "Epoch 37/75\n",
      "300/300 [==============================] - 0s 223us/step - loss: 0.0167 - acc: 1.0000\n",
      "Epoch 38/75\n",
      "300/300 [==============================] - 0s 239us/step - loss: 0.0156 - acc: 1.0000\n",
      "Epoch 39/75\n",
      "300/300 [==============================] - 0s 263us/step - loss: 0.0135 - acc: 1.0000\n",
      "Epoch 40/75\n",
      "300/300 [==============================] - 0s 263us/step - loss: 0.0134 - acc: 1.0000\n",
      "Epoch 41/75\n",
      "300/300 [==============================] - 0s 248us/step - loss: 0.0123 - acc: 1.0000\n",
      "Epoch 42/75\n",
      "300/300 [==============================] - 0s 233us/step - loss: 0.0120 - acc: 1.0000\n",
      "Epoch 43/75\n",
      "300/300 [==============================] - 0s 243us/step - loss: 0.0113 - acc: 1.0000\n",
      "Epoch 44/75\n",
      "300/300 [==============================] - 0s 255us/step - loss: 0.0112 - acc: 1.0000\n",
      "Epoch 45/75\n",
      "300/300 [==============================] - 0s 274us/step - loss: 0.0118 - acc: 1.0000\n",
      "Epoch 46/75\n",
      "300/300 [==============================] - 0s 263us/step - loss: 0.0128 - acc: 1.0000\n",
      "Epoch 47/75\n",
      "300/300 [==============================] - 0s 264us/step - loss: 0.0097 - acc: 1.0000\n",
      "Epoch 48/75\n",
      "300/300 [==============================] - 0s 272us/step - loss: 0.0095 - acc: 1.0000\n",
      "Epoch 49/75\n",
      "300/300 [==============================] - 0s 268us/step - loss: 0.0092 - acc: 1.0000\n",
      "Epoch 50/75\n",
      "300/300 [==============================] - 0s 250us/step - loss: 0.0089 - acc: 1.0000\n",
      "Epoch 51/75\n",
      "300/300 [==============================] - 0s 253us/step - loss: 0.0083 - acc: 1.0000\n",
      "Epoch 52/75\n",
      "300/300 [==============================] - 0s 251us/step - loss: 0.0090 - acc: 1.0000\n",
      "Epoch 53/75\n",
      "300/300 [==============================] - 0s 267us/step - loss: 0.0075 - acc: 1.0000\n",
      "Epoch 54/75\n",
      "300/300 [==============================] - 0s 262us/step - loss: 0.0075 - acc: 1.0000\n",
      "Epoch 55/75\n",
      "300/300 [==============================] - 0s 266us/step - loss: 0.0067 - acc: 1.0000\n",
      "Epoch 56/75\n",
      "300/300 [==============================] - 0s 269us/step - loss: 0.0064 - acc: 1.0000\n",
      "Epoch 57/75\n",
      "300/300 [==============================] - 0s 267us/step - loss: 0.0064 - acc: 1.0000\n",
      "Epoch 58/75\n",
      "300/300 [==============================] - 0s 259us/step - loss: 0.0062 - acc: 1.0000\n",
      "Epoch 59/75\n",
      "300/300 [==============================] - 0s 253us/step - loss: 0.0060 - acc: 1.0000\n",
      "Epoch 60/75\n",
      "300/300 [==============================] - 0s 244us/step - loss: 0.0059 - acc: 1.0000\n",
      "Epoch 61/75\n",
      "300/300 [==============================] - 0s 242us/step - loss: 0.0058 - acc: 1.0000\n",
      "Epoch 62/75\n",
      "300/300 [==============================] - 0s 240us/step - loss: 0.0056 - acc: 1.0000\n",
      "Epoch 63/75\n",
      "300/300 [==============================] - 0s 266us/step - loss: 0.0052 - acc: 1.0000\n",
      "Epoch 64/75\n",
      "300/300 [==============================] - 0s 266us/step - loss: 0.0051 - acc: 1.0000\n",
      "Epoch 65/75\n",
      "300/300 [==============================] - 0s 264us/step - loss: 0.0049 - acc: 1.0000\n",
      "Epoch 66/75\n",
      "300/300 [==============================] - 0s 266us/step - loss: 0.0048 - acc: 1.0000\n",
      "Epoch 67/75\n",
      "300/300 [==============================] - 0s 253us/step - loss: 0.0049 - acc: 1.0000\n",
      "Epoch 68/75\n",
      "300/300 [==============================] - 0s 265us/step - loss: 0.0044 - acc: 1.0000\n",
      "Epoch 69/75\n",
      "300/300 [==============================] - 0s 273us/step - loss: 0.0043 - acc: 1.0000\n",
      "Epoch 70/75\n",
      "300/300 [==============================] - 0s 283us/step - loss: 0.0044 - acc: 1.0000\n",
      "Epoch 71/75\n",
      "300/300 [==============================] - 0s 260us/step - loss: 0.0042 - acc: 1.0000\n",
      "Epoch 72/75\n",
      "300/300 [==============================] - 0s 290us/step - loss: 0.0042 - acc: 1.0000\n",
      "Epoch 73/75\n",
      "300/300 [==============================] - 0s 284us/step - loss: 0.0039 - acc: 1.0000\n",
      "Epoch 74/75\n",
      "300/300 [==============================] - 0s 252us/step - loss: 0.0038 - acc: 1.0000\n",
      "Epoch 75/75\n",
      "300/300 [==============================] - 0s 249us/step - loss: 0.0037 - acc: 1.0000\n"
     ]
    },
    {
     "data": {
      "text/plain": [
       "<keras.callbacks.History at 0xb3991beb8>"
      ]
     },
     "execution_count": 45,
     "metadata": {},
     "output_type": "execute_result"
    }
   ],
   "source": [
    "model_Ad.fit(X_train, Y_train, epochs=75, batch_size=32)"
   ]
  },
  {
   "cell_type": "code",
   "execution_count": 46,
   "metadata": {},
   "outputs": [
    {
     "data": {
      "text/plain": [
       "array([[0., 1., 0.]], dtype=float32)"
      ]
     },
     "execution_count": 46,
     "metadata": {},
     "output_type": "execute_result"
    }
   ],
   "source": [
    "X_test = generate_a_disk()\n",
    "X_test = X_test.reshape(1, X_test.shape[0])\n",
    "model_Ad.predict(X_test)"
   ]
  },
  {
   "cell_type": "markdown",
   "metadata": {},
   "source": [
    "# 4 - Visualization of the Solution"
   ]
  },
  {
   "cell_type": "code",
   "execution_count": 47,
   "metadata": {},
   "outputs": [],
   "source": [
    "%matplotlib inline\n",
    "\n",
    "visu = model_SGD.get_weights()[0] # Checking the visualization of the SGD model\n",
    "array_1 = visu[:,0]\n",
    "array_2 = visu[:,1]\n",
    "array_3 = visu[:,2]"
   ]
  },
  {
   "cell_type": "code",
   "execution_count": 48,
   "metadata": {},
   "outputs": [
    {
     "data": {
      "image/png": "[encoded data removed]",
      "text/plain": [
       "<Figure size 432x288 with 1 Axes>"
      ]
     },
     "metadata": {
      "needs_background": "light"
     },
     "output_type": "display_data"
    }
   ],
   "source": [
    "import matplotlib.cm as cm\n",
    "plt.imshow(array_1.reshape(IMAGE_SIZE,IMAGE_SIZE), cmap = cm.Greys) # Choose the color grey for the figure\n",
    "plt.show()"
   ]
  },
  {
   "cell_type": "code",
   "execution_count": 49,
   "metadata": {},
   "outputs": [
    {
     "data": {
      "image/png": "[encoded data removed]",
      "text/plain": [
       "<Figure size 432x288 with 1 Axes>"
      ]
     },
     "metadata": {
      "needs_background": "light"
     },
     "output_type": "display_data"
    }
   ],
   "source": [
    "plt.imshow(array_2.reshape(IMAGE_SIZE,IMAGE_SIZE), cmap = cm.Greys)\n",
    "plt.show()"
   ]
  },
  {
   "cell_type": "code",
   "execution_count": 50,
   "metadata": {},
   "outputs": [
    {
     "data": {
      "image/png": "[encoded data removed]",
      "text/plain": [
       "<Figure size 432x288 with 1 Axes>"
      ]
     },
     "metadata": {
      "needs_background": "light"
     },
     "output_type": "display_data"
    }
   ],
   "source": [
    "plt.imshow(array_3.reshape(IMAGE_SIZE,IMAGE_SIZE), cmap = cm.Greys)\n",
    "plt.show()"
   ]
  },
  {
   "cell_type": "markdown",
   "metadata": {},
   "source": [
    "# 5 - A more Difficult Classification Problem"
   ]
  },
  {
   "cell_type": "code",
   "execution_count": 51,
   "metadata": {},
   "outputs": [],
   "source": [
    "from keras.layers import Dense, Conv2D, Flatten, MaxPool2D"
   ]
  },
  {
   "cell_type": "code",
   "execution_count": 52,
   "metadata": {},
   "outputs": [
    {
     "name": "stdout",
     "output_type": "stream",
     "text": [
      "Creating data:\n",
      "0\n",
      "10\n",
      "20\n",
      "30\n",
      "40\n",
      "50\n",
      "60\n",
      "70\n",
      "80\n",
      "90\n",
      "100\n",
      "110\n",
      "120\n",
      "130\n",
      "140\n",
      "150\n",
      "160\n",
      "170\n",
      "180\n",
      "190\n",
      "200\n",
      "210\n",
      "220\n",
      "230\n",
      "240\n",
      "250\n",
      "260\n",
      "270\n",
      "280\n",
      "290\n"
     ]
    }
   ],
   "source": [
    "[X_train, Y_train] = generate_dataset_classification(300, 20, True) # Recreating the testing set"
   ]
  },
  {
   "cell_type": "code",
   "execution_count": 53,
   "metadata": {},
   "outputs": [
    {
     "name": "stdout",
     "output_type": "stream",
     "text": [
      "Creating data:\n",
      "0\n",
      "10\n",
      "20\n",
      "30\n",
      "40\n",
      "50\n",
      "60\n",
      "70\n",
      "80\n",
      "90\n",
      "100\n",
      "110\n",
      "120\n",
      "130\n",
      "140\n",
      "150\n",
      "160\n",
      "170\n",
      "180\n",
      "190\n",
      "200\n",
      "210\n",
      "220\n",
      "230\n",
      "240\n",
      "250\n",
      "260\n",
      "270\n",
      "280\n",
      "290\n"
     ]
    }
   ],
   "source": [
    "[X_test, Y_test] = generate_test_set_classification()"
   ]
  },
  {
   "cell_type": "code",
   "execution_count": 55,
   "metadata": {},
   "outputs": [
    {
     "name": "stdout",
     "output_type": "stream",
     "text": [
      "(300, 72, 72, 1)\n",
      "72 72\n"
     ]
    }
   ],
   "source": [
    "#Reshape the data\n",
    "X_train = X_train.reshape([-1,72,72,1])\n",
    "print(X_train.shape)\n",
    "inp_shape = X_train.shape[1] \n",
    "inp_rows = X_train.shape[2]\n",
    "print(inp_shape, inp_rows)"
   ]
  },
  {
   "cell_type": "code",
   "execution_count": 56,
   "metadata": {},
   "outputs": [],
   "source": [
    "#Transform the target to categorical \n",
    "Y_train = tf.keras.utils.to_categorical(Y_train)\n",
    "\n",
    "# CREATING THE MODEL (Convolutional)\n",
    "\n",
    "model_convolutional = Sequential() \n",
    "\n",
    "# Adding convolutional and pooling layers\n",
    "\n",
    "model_convolutional.add(Conv2D(16, kernel_size = 5, activation='relu',  input_shape = (inp_shape,inp_rows,1)))\n",
    "model_convolutional.add(MaxPool2D(2))\n",
    "model_convolutional.add(Conv2D(16, kernel_size = 5, activation='relu'))\n",
    "model_convolutional.add(MaxPool2D(2))\n",
    "\n",
    "# Connecting convolutional layer to dense layer\n",
    "\n",
    "model_convolutional.add(Flatten())\n",
    "\n",
    "model_convolutional.add(Dense(3, activation = 'softmax'))\n",
    "\n",
    "# COMPILING THE MODEL\n",
    "\n",
    "model_convolutional.compile(loss='categorical_crossentropy', \n",
    "              optimizer='adam', \n",
    "              metrics=['accuracy'])"
   ]
  },
  {
   "cell_type": "code",
   "execution_count": 57,
   "metadata": {},
   "outputs": [
    {
     "name": "stdout",
     "output_type": "stream",
     "text": [
      "_________________________________________________________________\n",
      "Layer (type)                 Output Shape              Param #   \n",
      "=================================================================\n",
      "conv2d_1 (Conv2D)            (None, 68, 68, 16)        416       \n",
      "_________________________________________________________________\n",
      "max_pooling2d_1 (MaxPooling2 (None, 34, 34, 16)        0         \n",
      "_________________________________________________________________\n",
      "conv2d_2 (Conv2D)            (None, 30, 30, 16)        6416      \n",
      "_________________________________________________________________\n",
      "max_pooling2d_2 (MaxPooling2 (None, 15, 15, 16)        0         \n",
      "_________________________________________________________________\n",
      "flatten_1 (Flatten)          (None, 3600)              0         \n",
      "_________________________________________________________________\n",
      "dense_7 (Dense)              (None, 3)                 10803     \n",
      "=================================================================\n",
      "Total params: 17,635\n",
      "Trainable params: 17,635\n",
      "Non-trainable params: 0\n",
      "_________________________________________________________________\n"
     ]
    }
   ],
   "source": [
    "model_convolutional.summary() # Checking the characteristics of the network"
   ]
  },
  {
   "cell_type": "code",
   "execution_count": 58,
   "metadata": {},
   "outputs": [
    {
     "name": "stdout",
     "output_type": "stream",
     "text": [
      "Train on 210 samples, validate on 90 samples\n",
      "Epoch 1/100\n",
      "210/210 [==============================] - 1s 5ms/step - loss: 1.1078 - acc: 0.3333 - val_loss: 1.0592 - val_acc: 0.4778\n",
      "Epoch 2/100\n",
      "210/210 [==============================] - 0s 1ms/step - loss: 1.0769 - acc: 0.3952 - val_loss: 1.0513 - val_acc: 0.4667\n",
      "Epoch 3/100\n",
      "210/210 [==============================] - 0s 1ms/step - loss: 1.0215 - acc: 0.5333 - val_loss: 1.0310 - val_acc: 0.4000\n",
      "Epoch 4/100\n",
      "210/210 [==============================] - 0s 1ms/step - loss: 0.9420 - acc: 0.5571 - val_loss: 0.9335 - val_acc: 0.5444\n",
      "Epoch 5/100\n",
      "210/210 [==============================] - 0s 1ms/step - loss: 0.8997 - acc: 0.5714 - val_loss: 0.8796 - val_acc: 0.6333\n",
      "Epoch 6/100\n",
      "210/210 [==============================] - 0s 1ms/step - loss: 0.7941 - acc: 0.6905 - val_loss: 0.7793 - val_acc: 0.6667\n",
      "Epoch 7/100\n",
      "210/210 [==============================] - 0s 1ms/step - loss: 0.7087 - acc: 0.7619 - val_loss: 0.7179 - val_acc: 0.6889\n",
      "Epoch 8/100\n",
      "210/210 [==============================] - 0s 1ms/step - loss: 0.6487 - acc: 0.7429 - val_loss: 0.6887 - val_acc: 0.6778\n",
      "Epoch 9/100\n",
      "210/210 [==============================] - 0s 2ms/step - loss: 0.5948 - acc: 0.7524 - val_loss: 0.6888 - val_acc: 0.6889\n",
      "Epoch 10/100\n",
      "210/210 [==============================] - 0s 1ms/step - loss: 0.5445 - acc: 0.7905 - val_loss: 0.7580 - val_acc: 0.6556\n"
     ]
    },
    {
     "data": {
      "text/plain": [
       "<keras.callbacks.History at 0xb4dad3908>"
      ]
     },
     "execution_count": 58,
     "metadata": {},
     "output_type": "execute_result"
    }
   ],
   "source": [
    "#fit the model \n",
    "from keras.callbacks import EarlyStopping\n",
    "early_stopping = EarlyStopping(patience = 2)\n",
    "model_convolutional.fit(X_train, Y_train, epochs=100, batch_size = 32,validation_split = 0.3, callbacks = [early_stopping])"
   ]
  },
  {
   "cell_type": "code",
   "execution_count": 59,
   "metadata": {},
   "outputs": [
    {
     "name": "stdout",
     "output_type": "stream",
     "text": [
      "300/300 [==============================] - 0s 334us/step\n"
     ]
    },
    {
     "data": {
      "text/plain": [
       "[0.796605974038442, 0.6466666666666666]"
      ]
     },
     "execution_count": 59,
     "metadata": {},
     "output_type": "execute_result"
    }
   ],
   "source": [
    "#Reshape the data\n",
    "X_test = X_test.reshape([-1,72,72,1])\n",
    "\n",
    "#Evaluate test set\n",
    "model_convolutional.evaluate(X_test, Y_test)"
   ]
  },
  {
   "cell_type": "markdown",
   "metadata": {},
   "source": [
    "# 6 - A Regression Problem"
   ]
  },
  {
   "cell_type": "code",
   "execution_count": 78,
   "metadata": {},
   "outputs": [
    {
     "name": "stdout",
     "output_type": "stream",
     "text": [
      "Creating data:\n",
      "0\n",
      "10\n",
      "20\n",
      "30\n",
      "40\n",
      "50\n",
      "60\n",
      "70\n",
      "80\n",
      "90\n",
      "100\n",
      "110\n",
      "120\n",
      "130\n",
      "140\n",
      "150\n",
      "160\n",
      "170\n",
      "180\n",
      "190\n",
      "200\n",
      "210\n",
      "220\n",
      "230\n",
      "240\n",
      "250\n",
      "260\n",
      "270\n",
      "280\n",
      "290\n",
      "300\n",
      "310\n",
      "320\n",
      "330\n",
      "340\n",
      "350\n",
      "360\n",
      "370\n",
      "380\n",
      "390\n",
      "400\n",
      "410\n",
      "420\n",
      "430\n",
      "440\n",
      "450\n",
      "460\n",
      "470\n",
      "480\n",
      "490\n",
      "500\n",
      "510\n",
      "520\n",
      "530\n",
      "540\n",
      "550\n",
      "560\n",
      "570\n",
      "580\n",
      "590\n",
      "600\n",
      "610\n",
      "620\n",
      "630\n",
      "640\n",
      "650\n",
      "660\n",
      "670\n",
      "680\n",
      "690\n",
      "700\n",
      "710\n",
      "720\n",
      "730\n",
      "740\n",
      "750\n",
      "760\n",
      "770\n",
      "780\n",
      "790\n"
     ]
    }
   ],
   "source": [
    "[X_train, Y_train] = generate_dataset_regression(800, 20) # Recreating a training set"
   ]
  },
  {
   "cell_type": "code",
   "execution_count": 63,
   "metadata": {},
   "outputs": [],
   "source": [
    "#Reshape X_train\n",
    "X_train = X_train.reshape([-1, 72,72,1])\n",
    "\n",
    "# CREATING THE MODEL \n",
    "\n",
    "model_reg = Sequential() \n",
    "\n",
    "# Adding convolutional and pooling layers\n",
    "\n",
    "model_reg.add(Conv2D(32, kernel_size = 5, activation='relu',  input_shape = (72,72,1)))\n",
    "model_reg.add(MaxPool2D(2))\n",
    "model_reg.add(Conv2D(16, kernel_size = 5, activation='relu',  input_shape = (72,72,1)))\n",
    "model_reg.add(MaxPool2D(2))\n",
    "model_reg.add(Conv2D(16, kernel_size = 5, activation='relu',  input_shape = (72,72,1)))\n",
    "\n",
    "# Connecting convolutional layer to dense layer\n",
    "\n",
    "model_reg.add(Flatten())\n",
    "model_reg.add(Dense(6,)) #output layer\n",
    "\n",
    "\n",
    "model_reg.compile(loss='mean_squared_error', optimizer='adam', metrics=['mean_absolute_error'])"
   ]
  },
  {
   "cell_type": "code",
   "execution_count": 69,
   "metadata": {},
   "outputs": [
    {
     "name": "stdout",
     "output_type": "stream",
     "text": [
      "Epoch 1/10\n",
      "800/800 [==============================] - 2s 2ms/step - loss: 0.0382 - mean_absolute_error: 0.1589\n",
      "Epoch 2/10\n",
      "800/800 [==============================] - 2s 2ms/step - loss: 0.0371 - mean_absolute_error: 0.1571\n",
      "Epoch 3/10\n",
      "800/800 [==============================] - 2s 2ms/step - loss: 0.0360 - mean_absolute_error: 0.1542\n",
      "Epoch 4/10\n",
      "800/800 [==============================] - 2s 2ms/step - loss: 0.0349 - mean_absolute_error: 0.1517\n",
      "Epoch 5/10\n",
      "800/800 [==============================] - 2s 2ms/step - loss: 0.0341 - mean_absolute_error: 0.1500\n",
      "Epoch 6/10\n",
      "800/800 [==============================] - 2s 2ms/step - loss: 0.0333 - mean_absolute_error: 0.1478\n",
      "Epoch 7/10\n",
      "800/800 [==============================] - 2s 2ms/step - loss: 0.0324 - mean_absolute_error: 0.1456\n",
      "Epoch 8/10\n",
      "800/800 [==============================] - 2s 2ms/step - loss: 0.0313 - mean_absolute_error: 0.1434\n",
      "Epoch 9/10\n",
      "800/800 [==============================] - 2s 2ms/step - loss: 0.0312 - mean_absolute_error: 0.1423\n",
      "Epoch 10/10\n",
      "800/800 [==============================] - 2s 2ms/step - loss: 0.0297 - mean_absolute_error: 0.1388\n"
     ]
    }
   ],
   "source": [
    "training = model_reg.fit(X_train, Y_train, epochs = 10, batch_size = 128)"
   ]
  },
  {
   "cell_type": "code",
   "execution_count": 87,
   "metadata": {},
   "outputs": [
    {
     "name": "stdout",
     "output_type": "stream",
     "text": [
      "Creating data:\n",
      "0\n",
      "10\n",
      "20\n",
      "30\n",
      "40\n",
      "50\n",
      "60\n",
      "70\n",
      "80\n",
      "90\n",
      "100\n",
      "110\n",
      "120\n",
      "130\n",
      "140\n",
      "150\n",
      "160\n",
      "170\n",
      "180\n",
      "190\n",
      "200\n",
      "210\n",
      "220\n",
      "230\n",
      "240\n",
      "250\n",
      "260\n",
      "270\n",
      "280\n",
      "290\n"
     ]
    }
   ],
   "source": [
    "[X_test, Y_test] = generate_test_set_regression() # Creating a test set"
   ]
  },
  {
   "cell_type": "code",
   "execution_count": 88,
   "metadata": {},
   "outputs": [],
   "source": [
    "X_test = X_test.reshape([-1, 72,72,1])\n",
    "y_pred = model_reg.predict(X_test)"
   ]
  },
  {
   "cell_type": "code",
   "execution_count": 89,
   "metadata": {},
   "outputs": [
    {
     "name": "stdout",
     "output_type": "stream",
     "text": [
      "300/300 [==============================] - 0s 615us/step\n"
     ]
    },
    {
     "data": {
      "text/plain": [
       "[0.07930933068195979, 0.2240702348947525]"
      ]
     },
     "execution_count": 89,
     "metadata": {},
     "output_type": "execute_result"
    }
   ],
   "source": [
    "model_reg.evaluate(X_test, Y_test)"
   ]
  },
  {
   "cell_type": "code",
   "execution_count": 90,
   "metadata": {},
   "outputs": [
    {
     "data": {
      "image/png": "[encoded data removed]",
      "text/plain": [
       "<Figure size 360x360 with 1 Axes>"
      ]
     },
     "metadata": {
      "needs_background": "light"
     },
     "output_type": "display_data"
    }
   ],
   "source": [
    "visualize_prediction(X_test[0], y_pred[0])"
   ]
  },
  {
   "cell_type": "markdown",
   "metadata": {},
   "source": [
    "# 7 - Image Denoising"
   ]
  },
  {
   "cell_type": "code",
   "execution_count": 91,
   "metadata": {},
   "outputs": [],
   "source": [
    "from keras.layers import Subtract"
   ]
  },
  {
   "cell_type": "code",
   "execution_count": 92,
   "metadata": {},
   "outputs": [],
   "source": [
    "# Generate pair of images (with noise / without noise)\n",
    "def generate_a_drawing_n(figsize, U, V, noise=0.0):\n",
    "    fig = plt.figure(figsize=(figsize,figsize))\n",
    "    ax = plt.subplot(111)\n",
    "    plt.axis('Off')\n",
    "    ax.set_xlim(0,figsize)\n",
    "    ax.set_ylim(0,figsize)\n",
    "    ax.fill(U, V, \"k\")\n",
    "    fig.canvas.draw()\n",
    "    imdata = np.frombuffer(fig.canvas.tostring_rgb(), dtype=np.uint8)[::3].astype(np.float32)\n",
    "    imdata_n = imdata + noise * np.random.random(imdata.size)\n",
    "    plt.close(fig)\n",
    "    return imdata_n, imdata\n",
    "\n",
    "def generate_a_rectangle_n(free_location=False):\n",
    "    noise = np.random.randint(0,100) # noise\n",
    "    figsize = 1.0    \n",
    "    U = np.zeros(4)\n",
    "    V = np.zeros(4)\n",
    "    if free_location:\n",
    "        corners = np.random.random(4)\n",
    "        top = max(corners[0], corners[1])\n",
    "        bottom = min(corners[0], corners[1])\n",
    "        left = min(corners[2], corners[3])\n",
    "        right = max(corners[2], corners[3])\n",
    "    else:\n",
    "        side = (0.3 + 0.7 * np.random.random()) * figsize\n",
    "        top = figsize/2 + side/2\n",
    "        bottom = figsize/2 - side/2\n",
    "        left = bottom\n",
    "        right = top\n",
    "    U[0] = U[1] = top\n",
    "    U[2] = U[3] = bottom\n",
    "    V[0] = V[3] = left\n",
    "    V[1] = V[2] = right\n",
    "    return generate_a_drawing_n(figsize, U, V, noise)\n",
    "\n",
    "\n",
    "def generate_a_disk_n(free_location=False):\n",
    "    noise = np.random.randint(0,100) # noise\n",
    "    figsize = 1.0\n",
    "    if free_location:\n",
    "        center = np.random.random(2)\n",
    "    else:\n",
    "        center = (figsize/2, figsize/2)\n",
    "    radius = (0.3 + 0.7 * np.random.random()) * figsize/2\n",
    "    N = 50\n",
    "    U = np.zeros(N)\n",
    "    V = np.zeros(N)\n",
    "    i = 0\n",
    "    for t in np.linspace(0, 2*np.pi, N):\n",
    "        U[i] = center[0] + np.cos(t) * radius\n",
    "        V[i] = center[1] + np.sin(t) * radius\n",
    "        i = i + 1\n",
    "    return generate_a_drawing_n(figsize, U, V, noise)\n",
    "\n",
    "def generate_a_triangle_n(free_location=False):\n",
    "    noise = np.random.randint(0,100) # noise\n",
    "    figsize = 1.0\n",
    "    if free_location:\n",
    "        U = np.random.random(3)\n",
    "        V = np.random.random(3)\n",
    "    else:\n",
    "        size = (0.3 + 0.7 * np.random.random())*figsize/2\n",
    "        middle = figsize/2\n",
    "        U = (middle, middle+size, middle-size)\n",
    "        V = (middle+size, middle-size, middle-size)\n",
    "    imdata = generate_a_drawing_n(figsize, U, V, noise)\n",
    "    return [imdata, [U[0], V[0], U[1], V[1], U[2], V[2]]]\n",
    "\n",
    "def generate_dataset_classification_n(nb_samples, free_location=False):\n",
    "    noise = np.random.randint(0,100) # noise\n",
    "    # Getting im_size:\n",
    "    im_size = generate_a_rectangle().shape[0]\n",
    "    X = np.zeros([nb_samples,2,im_size])\n",
    "    Y = np.zeros(nb_samples)\n",
    "    print('Creating data:')\n",
    "    for i in range(nb_samples):\n",
    "        if i % 10 == 0:\n",
    "            print(i)\n",
    "        category = np.random.randint(3)\n",
    "        if category == 0:\n",
    "            X[i] = generate_a_rectangle_n(free_location)\n",
    "        elif category == 1: \n",
    "            X[i] = generate_a_disk_n(free_location)\n",
    "        else:\n",
    "            [X[i], V] = generate_a_triangle_n(free_location)\n",
    "        Y[i] = category\n",
    "    X = (X + noise) / (255 + 2 * noise)\n",
    "    return [X, Y]"
   ]
  },
  {
   "cell_type": "code",
   "execution_count": 93,
   "metadata": {},
   "outputs": [
    {
     "name": "stdout",
     "output_type": "stream",
     "text": [
      "Creating data:\n",
      "0\n",
      "10\n",
      "20\n",
      "30\n",
      "40\n",
      "50\n",
      "60\n",
      "70\n",
      "80\n",
      "90\n",
      "100\n",
      "110\n",
      "120\n",
      "130\n",
      "140\n",
      "150\n",
      "160\n",
      "170\n",
      "180\n",
      "190\n",
      "200\n",
      "210\n",
      "220\n",
      "230\n",
      "240\n",
      "250\n",
      "260\n",
      "270\n",
      "280\n",
      "290\n",
      "300\n",
      "310\n",
      "320\n",
      "330\n",
      "340\n",
      "350\n",
      "360\n",
      "370\n",
      "380\n",
      "390\n",
      "400\n",
      "410\n",
      "420\n",
      "430\n",
      "440\n",
      "450\n",
      "460\n",
      "470\n",
      "480\n",
      "490\n",
      "500\n",
      "510\n",
      "520\n",
      "530\n",
      "540\n",
      "550\n",
      "560\n",
      "570\n",
      "580\n",
      "590\n",
      "600\n",
      "610\n",
      "620\n",
      "630\n",
      "640\n",
      "650\n",
      "660\n",
      "670\n",
      "680\n",
      "690\n",
      "700\n",
      "710\n",
      "720\n",
      "730\n",
      "740\n",
      "750\n",
      "760\n",
      "770\n",
      "780\n",
      "790\n"
     ]
    }
   ],
   "source": [
    "training, same = generate_dataset_classification_n(800)"
   ]
  },
  {
   "cell_type": "code",
   "execution_count": 94,
   "metadata": {},
   "outputs": [],
   "source": [
    "X_train = training[:,0]\n",
    "Y_train = training[:,1]\n",
    "\n",
    "# Reshaping to 4 dimensions\n",
    "X_train = X_train.reshape(-1, 72,72,1)\n",
    "Y_train = Y_train.reshape(-1, 72,72,1)"
   ]
  },
  {
   "cell_type": "code",
   "execution_count": 96,
   "metadata": {},
   "outputs": [
    {
     "name": "stdout",
     "output_type": "stream",
     "text": [
      "Train on 560 samples, validate on 240 samples\n",
      "Epoch 1/20\n",
      "560/560 [==============================] - 12s 21ms/step - loss: 0.6162 - val_loss: 0.5581\n",
      "Epoch 2/20\n",
      "560/560 [==============================] - 11s 19ms/step - loss: 0.5519 - val_loss: 0.5436\n",
      "Epoch 3/20\n",
      "560/560 [==============================] - 10s 19ms/step - loss: 0.5333 - val_loss: 0.5205\n",
      "Epoch 4/20\n",
      "560/560 [==============================] - 11s 19ms/step - loss: 0.5081 - val_loss: 0.4931\n",
      "Epoch 5/20\n",
      "560/560 [==============================] - 10s 19ms/step - loss: 0.4786 - val_loss: 0.4590\n",
      "Epoch 6/20\n",
      "560/560 [==============================] - 11s 19ms/step - loss: 0.4512 - val_loss: 0.4389\n",
      "Epoch 7/20\n",
      "560/560 [==============================] - 11s 19ms/step - loss: 0.4310 - val_loss: 0.4228\n",
      "Epoch 8/20\n",
      "560/560 [==============================] - 11s 19ms/step - loss: 0.4192 - val_loss: 0.4145\n",
      "Epoch 9/20\n",
      "560/560 [==============================] - 10s 19ms/step - loss: 0.4110 - val_loss: 0.4077\n",
      "Epoch 10/20\n",
      "560/560 [==============================] - 11s 19ms/step - loss: 0.4065 - val_loss: 0.4051\n",
      "Epoch 11/20\n",
      "560/560 [==============================] - 10s 19ms/step - loss: 0.4048 - val_loss: 0.4032\n",
      "Epoch 12/20\n",
      "560/560 [==============================] - 10s 19ms/step - loss: 0.4033 - val_loss: 0.4028\n",
      "Epoch 13/20\n",
      "560/560 [==============================] - 10s 19ms/step - loss: 0.4024 - val_loss: 0.4023\n",
      "Epoch 14/20\n",
      "560/560 [==============================] - 10s 19ms/step - loss: 0.4017 - val_loss: 0.4013\n",
      "Epoch 15/20\n",
      "560/560 [==============================] - 10s 19ms/step - loss: 0.4009 - val_loss: 0.4003\n",
      "Epoch 16/20\n",
      "560/560 [==============================] - 11s 20ms/step - loss: 0.4002 - val_loss: 0.3996\n",
      "Epoch 17/20\n",
      "560/560 [==============================] - 11s 19ms/step - loss: 0.3996 - val_loss: 0.3991\n",
      "Epoch 18/20\n",
      "560/560 [==============================] - 10s 19ms/step - loss: 0.3991 - val_loss: 0.3989\n",
      "Epoch 19/20\n",
      "560/560 [==============================] - 11s 19ms/step - loss: 0.3986 - val_loss: 0.3984\n",
      "Epoch 20/20\n",
      "560/560 [==============================] - 10s 19ms/step - loss: 0.3982 - val_loss: 0.3980\n"
     ]
    },
    {
     "data": {
      "text/plain": [
       "<keras.callbacks.History at 0xb715ca208>"
      ]
     },
     "execution_count": 96,
     "metadata": {},
     "output_type": "execute_result"
    }
   ],
   "source": [
    "from keras.models import Input, Model\n",
    "from keras.layers import UpSampling2D\n",
    "from keras.layers import UpSampling2D\n",
    "\n",
    "rip = Input(shape=(72, 72, 1))\n",
    "\n",
    "\n",
    "temp = Conv2D(32, (3, 3), activation='relu', padding='same')(rip)\n",
    "temp = MaxPool2D((2, 2), padding='same')(temp)\n",
    "temp = Conv2D(32, (3, 3), activation='relu', padding='same')(temp)\n",
    "temp = MaxPool2D((2, 2), padding='same')(temp)\n",
    "temp = Conv2D(32, (3, 3), activation='relu', padding='same')(temp)\n",
    "temp = UpSampling2D((2, 2))(temp)\n",
    "temp = Conv2D(32, (3, 3), activation='relu', padding='same')(temp)\n",
    "temp = UpSampling2D((2, 2))(temp)\n",
    "\n",
    "output = Conv2D(1, (3, 3), activation='sigmoid', padding='same')(temp)\n",
    "model_denoising = Model(rip, output)\n",
    "model_denoising.compile(optimizer=\"adam\", loss='binary_crossentropy')\n",
    "model_denoising.fit(X_train, Y_train, epochs=20, batch_size=128,validation_split=0.3, shuffle=True, callbacks = [early_stopping])"
   ]
  },
  {
   "cell_type": "code",
   "execution_count": 97,
   "metadata": {},
   "outputs": [
    {
     "name": "stdout",
     "output_type": "stream",
     "text": [
      "Creating data:\n",
      "0\n"
     ]
    }
   ],
   "source": [
    "testing, same = generate_dataset_classification_n(5, 20) # Creating a test set"
   ]
  },
  {
   "cell_type": "code",
   "execution_count": 98,
   "metadata": {},
   "outputs": [
    {
     "data": {
      "image/png": "[encoded data removed]",
      "text/plain": [
       "<Figure size 720x1440 with 3 Axes>"
      ]
     },
     "metadata": {
      "needs_background": "light"
     },
     "output_type": "display_data"
    },
    {
     "data": {
      "image/png": "[encoded data removed]",
      "text/plain": [
       "<Figure size 720x1440 with 3 Axes>"
      ]
     },
     "metadata": {
      "needs_background": "light"
     },
     "output_type": "display_data"
    },
    {
     "data": {
      "image/png": "[encoded data removed]",
      "text/plain": [
       "<Figure size 720x1440 with 3 Axes>"
      ]
     },
     "metadata": {
      "needs_background": "light"
     },
     "output_type": "display_data"
    },
    {
     "data": {
      "image/png": "[encoded data removed]",
      "text/plain": [
       "<Figure size 720x1440 with 3 Axes>"
      ]
     },
     "metadata": {
      "needs_background": "light"
     },
     "output_type": "display_data"
    },
    {
     "data": {
      "image/png": "[encoded data removed]",
      "text/plain": [
       "<Figure size 720x1440 with 3 Axes>"
      ]
     },
     "metadata": {
      "needs_background": "light"
     },
     "output_type": "display_data"
    }
   ],
   "source": [
    "#prepare test set and reshape\n",
    "X_test = testing[:,0]\n",
    "Y_test = testing[:,1]\n",
    "X_test = X_test.reshape(-1,72,72,1)\n",
    "Y_test = Y_test.reshape(-1,72,72,1)\n",
    "for j in range(5):\n",
    "  fig = plt.figure(figsize = (10,20))\n",
    "  fig.tight_layout()\n",
    "    \n",
    "  ax = plt.subplot(1, 3, 1)\n",
    "  plt.imshow(X_test[j].reshape((72,72)),cmap='gray')\n",
    "  plt.title(\"Image with noise\")\n",
    "\n",
    "  ax = plt.subplot(1, 3, 2)\n",
    "  plt.imshow(Y_test[j].reshape((IMAGE_SIZE,IMAGE_SIZE)),cmap='gray')\n",
    "  plt.title(\"Image without noise\")\n",
    "\n",
    "  ax = plt.subplot(1, 3, 3)\n",
    "  plt.imshow((model_denoising.predict(X_test[j].reshape((-1,72,72,1)))).reshape((72,72)),cmap='gray')\n",
    "  plt.title(\"Image denoising\")"
   ]
  }
 ],
 "metadata": {
  "kernelspec": {
   "display_name": "Python 3",
   "language": "python",
   "name": "python3"
  },
  "language_info": {
   "codemirror_mode": {
    "name": "ipython",
    "version": 3
   },
   "file_extension": ".py",
   "mimetype": "text/x-python",
   "name": "python",
   "nbconvert_exporter": "python",
   "pygments_lexer": "ipython3",
   "version": "3.6.6"
  }
 },
 "nbformat": 4,
 "nbformat_minor": 2
}
